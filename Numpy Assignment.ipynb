{
 "cells": [
  {
   "cell_type": "code",
   "execution_count": 1,
   "id": "467ff4cb",
   "metadata": {},
   "outputs": [],
   "source": [
    "# Write a function so that the columns of the output matrix are powers of the input\n",
    "# vector.\n",
    "\n",
    "# The order of the powers is determined by the increasing boolean argument. Specifically, when\n",
    "# increasing is False, the i-th output column is the input vector raised element-wise to the power\n",
    "# of N - i - 1.\n",
    "\n",
    "# HINT: Such a matrix with a geometric progression in each row is named for Alexandre-\n",
    "# Theophile Vandermonde."
   ]
  },
  {
   "cell_type": "code",
   "execution_count": 2,
   "id": "99ff984b",
   "metadata": {},
   "outputs": [],
   "source": [
    "import numpy as np"
   ]
  },
  {
   "cell_type": "code",
   "execution_count": 3,
   "id": "b213e7cd",
   "metadata": {},
   "outputs": [],
   "source": [
    "arr=np.array([1,2,3,4])"
   ]
  },
  {
   "cell_type": "code",
   "execution_count": 5,
   "id": "1287e7d3",
   "metadata": {},
   "outputs": [],
   "source": [
    "len_=len(arr)"
   ]
  },
  {
   "cell_type": "code",
   "execution_count": 8,
   "id": "acf7afef",
   "metadata": {},
   "outputs": [],
   "source": [
    "def ATV(arr):\n",
    "    return np.column_stack([arr**(len_-1-i) for i in range(len_)])"
   ]
  },
  {
   "cell_type": "code",
   "execution_count": 9,
   "id": "738843c0",
   "metadata": {},
   "outputs": [
    {
     "data": {
      "text/plain": [
       "array([[ 1,  1,  1,  1],\n",
       "       [ 8,  4,  2,  1],\n",
       "       [27,  9,  3,  1],\n",
       "       [64, 16,  4,  1]], dtype=int32)"
      ]
     },
     "execution_count": 9,
     "metadata": {},
     "output_type": "execute_result"
    }
   ],
   "source": [
    "ATV(arr)"
   ]
  },
  {
   "cell_type": "markdown",
   "id": "ba6273eb",
   "metadata": {},
   "source": [
    " <!-- # Problem Statement 2:\n",
    "# Given a sequence of n values x1, x2, ..., xn and a window size k>0, the k-th moving average of\n",
    "# the given sequence is defined as follows:\n",
    "# The moving average sequence has n-k+1 elements as shown below.\n",
    "# The moving averages with k=4 of a ten-value sequence (n=10) is shown below\n",
    "\n",
    "# Thus, the moving average sequence has n-k+1=10-4+1=7 values.\n",
    "\n",
    "# Write a function to find moving average in an array over a window:\n",
    "# Test it over [3, 5, 7, 2, 8, 10, 11, 65, 72, 81, 99, 100, 150] and window of 3. -->"
   ]
  },
  {
   "cell_type": "code",
   "execution_count": null,
   "id": "3415d703",
   "metadata": {},
   "outputs": [],
   "source": [
    "# Write a function to find moving average in an array over a window:\n",
    "# Test it over [3, 5, 7, 2, 8, 10, 11, 65, 72, 81, 99, 100, 150] and window of 3."
   ]
  },
  {
   "cell_type": "code",
   "execution_count": 42,
   "id": "bcfe2300",
   "metadata": {},
   "outputs": [],
   "source": [
    "def moving_average(arr,k):\n",
    "    cumsum=np.cumsum(arr)\n",
    "    cumsum[k:]=cumsum[k:]-cumsum[:-k]\n",
    "    return cumsum[k-1:]/k"
   ]
  },
  {
   "cell_type": "code",
   "execution_count": 43,
   "id": "0c651437",
   "metadata": {},
   "outputs": [
    {
     "data": {
      "text/plain": [
       "array([25., 35., 45., 55., 65., 75., 85.])"
      ]
     },
     "execution_count": 43,
     "metadata": {},
     "output_type": "execute_result"
    }
   ],
   "source": [
    "arr=[3, 5, 7, 2, 8, 10, 11, 65, 72, 81, 99, 100, 150]\n",
    "arr1=[10, 20, 30, 40, 50, 60, 70, 80, 90, 100]\n",
    "moving_average(arr1,4)"
   ]
  },
  {
   "cell_type": "code",
   "execution_count": null,
   "id": "40d0061e",
   "metadata": {},
   "outputs": [],
   "source": []
  }
 ],
 "metadata": {
  "kernelspec": {
   "display_name": "Python 3",
   "language": "python",
   "name": "python3"
  },
  "language_info": {
   "codemirror_mode": {
    "name": "ipython",
    "version": 3
   },
   "file_extension": ".py",
   "mimetype": "text/x-python",
   "name": "python",
   "nbconvert_exporter": "python",
   "pygments_lexer": "ipython3",
   "version": "3.8.8"
  }
 },
 "nbformat": 4,
 "nbformat_minor": 5
}
